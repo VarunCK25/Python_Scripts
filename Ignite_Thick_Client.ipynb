{
 "cells": [
  {
   "cell_type": "markdown",
   "metadata": {},
   "source": [
    "### Initializing Pyspark"
   ]
  },
  {
   "cell_type": "code",
   "execution_count": 13,
   "metadata": {},
   "outputs": [],
   "source": [
    "import findspark\n",
    "findspark.init()"
   ]
  },
  {
   "cell_type": "markdown",
   "metadata": {},
   "source": [
    "### Imports"
   ]
  },
  {
   "cell_type": "code",
   "execution_count": 14,
   "metadata": {},
   "outputs": [],
   "source": [
    "from pyspark.sql import SparkSession\n",
    "from pyspark import SparkConf, SparkContext\n",
    "import os, fnmatch"
   ]
  },
  {
   "cell_type": "markdown",
   "metadata": {},
   "source": [
    "### Fetching Dependancy Jars"
   ]
  },
  {
   "cell_type": "code",
   "execution_count": 15,
   "metadata": {},
   "outputs": [
    {
     "name": "stdout",
     "output_type": "stream",
     "text": [
      "List Of Jars: ['jars\\\\annotations-13.0.jar', 'jars\\\\cache-api-1.0.0.jar', 'jars\\\\commons-codec-1.11.jar', 'jars\\\\commons-logging-1.1.3.jar', 'jars\\\\h2-1.4.197.jar', 'jars\\\\ignite-core-2.7.6.jar', 'jars\\\\ignite-indexing-2.7.6.jar', 'jars\\\\ignite-log4j-2.7.6.jar', 'jars\\\\ignite-shmem-1.0.0.jar', 'jars\\\\ignite-spark-2.7.6.jar', 'jars\\\\ignite-spring-2.7.6.jar', 'jars\\\\lucene-analyzers-common-5.5.2.jar', 'jars\\\\lucene-core-7.4.0.jar', 'jars\\\\lucene-queryparser-7.4.0.jar', 'jars\\\\spring-aop-4.3.18.RELEASE.jar', 'jars\\\\spring-beans-4.3.18.RELEASE.jar', 'jars\\\\spring-context-4.3.18.RELEASE.jar', 'jars\\\\spring-core-4.3.18.RELEASE.jar', 'jars\\\\spring-expression-4.3.18.RELEASE.jar', 'jars\\\\spring-jdbc-4.3.18.RELEASE.jar', 'jars\\\\spring-tx-4.3.18.RELEASE.jar']\n"
     ]
    }
   ],
   "source": [
    "listOfJars = []\n",
    "listOfJarsPath = os.listdir(os.getcwd() + \"\\\\jars\")\n",
    "pattern = \"*.jar\"\n",
    "for entry in listOfJarsPath:\n",
    "    if fnmatch.fnmatch(entry, pattern):\n",
    "            #print (entry)\n",
    "            jar1 = \"jars\\\\\" + entry\n",
    "            listOfJars.append(jar1)\n",
    "print(\"List Of Jars:\",listOfJars)"
   ]
  },
  {
   "cell_type": "markdown",
   "metadata": {},
   "source": [
    "### Converting Jars to String Format"
   ]
  },
  {
   "cell_type": "code",
   "execution_count": 16,
   "metadata": {},
   "outputs": [
    {
     "name": "stdout",
     "output_type": "stream",
     "text": [
      "Jars: jars\\annotations-13.0.jar,jars\\cache-api-1.0.0.jar,jars\\commons-codec-1.11.jar,jars\\commons-logging-1.1.3.jar,jars\\h2-1.4.197.jar,jars\\ignite-core-2.7.6.jar,jars\\ignite-indexing-2.7.6.jar,jars\\ignite-log4j-2.7.6.jar,jars\\ignite-shmem-1.0.0.jar,jars\\ignite-spark-2.7.6.jar,jars\\ignite-spring-2.7.6.jar,jars\\lucene-analyzers-common-5.5.2.jar,jars\\lucene-core-7.4.0.jar,jars\\lucene-queryparser-7.4.0.jar,jars\\spring-aop-4.3.18.RELEASE.jar,jars\\spring-beans-4.3.18.RELEASE.jar,jars\\spring-context-4.3.18.RELEASE.jar,jars\\spring-core-4.3.18.RELEASE.jar,jars\\spring-expression-4.3.18.RELEASE.jar,jars\\spring-jdbc-4.3.18.RELEASE.jar,jars\\spring-tx-4.3.18.RELEASE.jar\n"
     ]
    }
   ],
   "source": [
    "jar1 = ','.join(listOfJars)\n",
    "print(\"Jars: \" + jar1)"
   ]
  },
  {
   "cell_type": "markdown",
   "metadata": {},
   "source": [
    "### Creating Spark Session"
   ]
  },
  {
   "cell_type": "code",
   "execution_count": 17,
   "metadata": {},
   "outputs": [],
   "source": [
    "spark = (SparkSession.builder\n",
    "         .config(\"spark.jars\",jar1)\n",
    "         .appName('ignite-read').master(\"local[*]\").getOrCreate())"
   ]
  },
  {
   "cell_type": "markdown",
   "metadata": {},
   "source": [
    "### Creating Spark Context and Conf"
   ]
  },
  {
   "cell_type": "code",
   "execution_count": 18,
   "metadata": {},
   "outputs": [],
   "source": [
    "conf = SparkConf()\n",
    "sc = spark.sparkContext"
   ]
  },
  {
   "cell_type": "markdown",
   "metadata": {},
   "source": [
    "### Current Working Directory"
   ]
  },
  {
   "cell_type": "code",
   "execution_count": 19,
   "metadata": {},
   "outputs": [
    {
     "name": "stdout",
     "output_type": "stream",
     "text": [
      "current working directory:  F:\\My_Practice\\Python_Scripts\n"
     ]
    }
   ],
   "source": [
    "print(\"current working directory: \", os.getcwd())"
   ]
  },
  {
   "cell_type": "markdown",
   "metadata": {},
   "source": [
    "### Displaying Spark Configurations in the current spark session"
   ]
  },
  {
   "cell_type": "code",
   "execution_count": 20,
   "metadata": {},
   "outputs": [
    {
     "name": "stdout",
     "output_type": "stream",
     "text": [
      "[('spark.repl.local.jars', 'file:///F:/My_Practice/Python_Scripts/jars/annotations-13.0.jar,file:///F:/My_Practice/Python_Scripts/jars/cache-api-1.0.0.jar,file:///F:/My_Practice/Python_Scripts/jars/commons-codec-1.11.jar,file:///F:/My_Practice/Python_Scripts/jars/commons-logging-1.1.3.jar,file:///F:/My_Practice/Python_Scripts/jars/h2-1.4.197.jar,file:///F:/My_Practice/Python_Scripts/jars/ignite-core-2.7.6.jar,file:///F:/My_Practice/Python_Scripts/jars/ignite-indexing-2.7.6.jar,file:///F:/My_Practice/Python_Scripts/jars/ignite-log4j-2.7.6.jar,file:///F:/My_Practice/Python_Scripts/jars/ignite-shmem-1.0.0.jar,file:///F:/My_Practice/Python_Scripts/jars/ignite-spark-2.7.6.jar,file:///F:/My_Practice/Python_Scripts/jars/ignite-spring-2.7.6.jar,file:///F:/My_Practice/Python_Scripts/jars/lucene-analyzers-common-5.5.2.jar,file:///F:/My_Practice/Python_Scripts/jars/lucene-core-7.4.0.jar,file:///F:/My_Practice/Python_Scripts/jars/lucene-queryparser-7.4.0.jar,file:///F:/My_Practice/Python_Scripts/jars/spring-aop-4.3.18.RELEASE.jar,file:///F:/My_Practice/Python_Scripts/jars/spring-beans-4.3.18.RELEASE.jar,file:///F:/My_Practice/Python_Scripts/jars/spring-context-4.3.18.RELEASE.jar,file:///F:/My_Practice/Python_Scripts/jars/spring-core-4.3.18.RELEASE.jar,file:///F:/My_Practice/Python_Scripts/jars/spring-expression-4.3.18.RELEASE.jar,file:///F:/My_Practice/Python_Scripts/jars/spring-jdbc-4.3.18.RELEASE.jar,file:///F:/My_Practice/Python_Scripts/jars/spring-tx-4.3.18.RELEASE.jar'), ('spark.master', 'local[*]'), ('spark.submit.deployMode', 'client'), ('spark.app.name', 'ignite-read'), ('spark.ui.showConsoleProgress', 'true'), ('spark.jars', 'file:///F:/My_Practice/Python_Scripts/jars/annotations-13.0.jar,file:///F:/My_Practice/Python_Scripts/jars/cache-api-1.0.0.jar,file:///F:/My_Practice/Python_Scripts/jars/commons-codec-1.11.jar,file:///F:/My_Practice/Python_Scripts/jars/commons-logging-1.1.3.jar,file:///F:/My_Practice/Python_Scripts/jars/h2-1.4.197.jar,file:///F:/My_Practice/Python_Scripts/jars/ignite-core-2.7.6.jar,file:///F:/My_Practice/Python_Scripts/jars/ignite-indexing-2.7.6.jar,file:///F:/My_Practice/Python_Scripts/jars/ignite-log4j-2.7.6.jar,file:///F:/My_Practice/Python_Scripts/jars/ignite-shmem-1.0.0.jar,file:///F:/My_Practice/Python_Scripts/jars/ignite-spark-2.7.6.jar,file:///F:/My_Practice/Python_Scripts/jars/ignite-spring-2.7.6.jar,file:///F:/My_Practice/Python_Scripts/jars/lucene-analyzers-common-5.5.2.jar,file:///F:/My_Practice/Python_Scripts/jars/lucene-core-7.4.0.jar,file:///F:/My_Practice/Python_Scripts/jars/lucene-queryparser-7.4.0.jar,file:///F:/My_Practice/Python_Scripts/jars/spring-aop-4.3.18.RELEASE.jar,file:///F:/My_Practice/Python_Scripts/jars/spring-beans-4.3.18.RELEASE.jar,file:///F:/My_Practice/Python_Scripts/jars/spring-context-4.3.18.RELEASE.jar,file:///F:/My_Practice/Python_Scripts/jars/spring-core-4.3.18.RELEASE.jar,file:///F:/My_Practice/Python_Scripts/jars/spring-expression-4.3.18.RELEASE.jar,file:///F:/My_Practice/Python_Scripts/jars/spring-jdbc-4.3.18.RELEASE.jar,file:///F:/My_Practice/Python_Scripts/jars/spring-tx-4.3.18.RELEASE.jar')]\n"
     ]
    }
   ],
   "source": [
    "print(SparkConf().getAll())"
   ]
  },
  {
   "cell_type": "markdown",
   "metadata": {},
   "source": [
    "### Ignite Thin Client Configuration File"
   ]
  },
  {
   "cell_type": "code",
   "execution_count": 21,
   "metadata": {},
   "outputs": [],
   "source": [
    "CONFIG = \"E:\\\\IGNITE_CONFIG_FILES\\\\ignite-config_17_CDC.xml\""
   ]
  },
  {
   "cell_type": "markdown",
   "metadata": {},
   "source": [
    "### Reading From Ignite Table"
   ]
  },
  {
   "cell_type": "code",
   "execution_count": null,
   "metadata": {},
   "outputs": [],
   "source": [
    "df = spark.read.format(\"ignite\").option(\"config\",CONFIG).option(\"table\",\"metadatatable\").load()"
   ]
  },
  {
   "cell_type": "code",
   "execution_count": null,
   "metadata": {},
   "outputs": [],
   "source": [
    "# df.show"
   ]
  }
 ],
 "metadata": {
  "kernelspec": {
   "display_name": "Python 3",
   "language": "python",
   "name": "python3"
  },
  "language_info": {
   "codemirror_mode": {
    "name": "ipython",
    "version": 3
   },
   "file_extension": ".py",
   "mimetype": "text/x-python",
   "name": "python",
   "nbconvert_exporter": "python",
   "pygments_lexer": "ipython3",
   "version": "3.7.4"
  }
 },
 "nbformat": 4,
 "nbformat_minor": 2
}
