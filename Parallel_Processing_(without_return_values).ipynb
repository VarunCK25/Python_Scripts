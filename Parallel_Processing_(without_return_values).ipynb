{
 "cells": [
  {
   "cell_type": "markdown",
   "metadata": {},
   "source": [
    "# Multithreading in Python\n",
    "___"
   ]
  },
  {
   "cell_type": "markdown",
   "metadata": {},
   "source": [
    "In this code, I will create a different methods and will try to execute them parallelly.\n",
    "\n",
    "I will be adding time delays for each method for better understanding"
   ]
  },
  {
   "cell_type": "markdown",
   "metadata": {},
   "source": [
    "___"
   ]
  },
  {
   "cell_type": "code",
   "execution_count": 1,
   "metadata": {},
   "outputs": [],
   "source": [
    "import time"
   ]
  },
  {
   "cell_type": "markdown",
   "metadata": {},
   "source": [
    "### Addition between two numbers: (Adding 1 sec delay)"
   ]
  },
  {
   "cell_type": "code",
   "execution_count": 2,
   "metadata": {},
   "outputs": [],
   "source": [
    "def addition(x,y):\n",
    "    print('\\nSleeping 1 second..')\n",
    "    time.sleep(1)\n",
    "    print(\"Sum of {} and {} = {}\".format(x, y, x+y))"
   ]
  },
  {
   "cell_type": "markdown",
   "metadata": {},
   "source": [
    "### Subtraction between two numbers: (Adding 2 sec delay)"
   ]
  },
  {
   "cell_type": "code",
   "execution_count": 3,
   "metadata": {},
   "outputs": [],
   "source": [
    "def subtraction(x,y):\n",
    "    print('\\nSleeping 2 seconds..')\n",
    "    time.sleep(2)\n",
    "    print(\"Difference of {} and {} = {}\".format(x, y, x-y))"
   ]
  },
  {
   "cell_type": "markdown",
   "metadata": {},
   "source": [
    "### Multiplication between two numbers: (Adding 3 sec delay)"
   ]
  },
  {
   "cell_type": "code",
   "execution_count": 4,
   "metadata": {},
   "outputs": [],
   "source": [
    "def multiplication(x,y):\n",
    "    print('\\nSleeping 3 seconds..')\n",
    "    time.sleep(3)\n",
    "    print(\"Multiplication of {} and {} = {}\".format(x, y, x*y))"
   ]
  },
  {
   "cell_type": "markdown",
   "metadata": {},
   "source": [
    "### Division between two numbers: (Adding 4 sec delay)"
   ]
  },
  {
   "cell_type": "code",
   "execution_count": 5,
   "metadata": {},
   "outputs": [],
   "source": [
    "def division(x,y):\n",
    "    print('\\nSleeping 4 seconds..')\n",
    "    time.sleep(4)\n",
    "    print(\"Division of {} and {} = {}\".format(x, y, x%y))"
   ]
  },
  {
   "cell_type": "markdown",
   "metadata": {},
   "source": [
    "### Biggest of two numbers: (Adding 5 sec delay)"
   ]
  },
  {
   "cell_type": "code",
   "execution_count": 6,
   "metadata": {},
   "outputs": [],
   "source": [
    "def biggest(x,y):\n",
    "    print('\\nSleeping 5 seconds..')\n",
    "    time.sleep(5)\n",
    "    print(\"Biggest of {} and {} = {}\".format(x, y, x if x>y else y))"
   ]
  },
  {
   "cell_type": "markdown",
   "metadata": {},
   "source": [
    "### Smallest of two numbers: (Adding 6 sec delay)"
   ]
  },
  {
   "cell_type": "code",
   "execution_count": 7,
   "metadata": {},
   "outputs": [],
   "source": [
    "def smallest(x,y):\n",
    "    print('\\nSleeping 6 seconds..')\n",
    "    time.sleep(6)\n",
    "    print(\"Smallest of {} and {} = {}\".format(x, y, x if x<y else y))"
   ]
  },
  {
   "cell_type": "markdown",
   "metadata": {},
   "source": [
    "### Sum of Squares: (Adding 7 sec delay)"
   ]
  },
  {
   "cell_type": "code",
   "execution_count": 8,
   "metadata": {},
   "outputs": [],
   "source": [
    "def sumOfSquares(x,y):\n",
    "    print('\\nSleeping 7 seconds..')\n",
    "    time.sleep(7)\n",
    "    print(\"Sum of Squares of {} and {} = {}\".format(x, y, x**2 + y**2))"
   ]
  },
  {
   "cell_type": "markdown",
   "metadata": {},
   "source": [
    "### Modulus between two numbers: (Adding 8 sec delay)"
   ]
  },
  {
   "cell_type": "code",
   "execution_count": 9,
   "metadata": {},
   "outputs": [],
   "source": [
    "def modulus(x,y):\n",
    "    print('\\nSleeping 8 seconds..')\n",
    "    time.sleep(8)\n",
    "    print(\"Modulus of {} and {} = {}\".format(x, y, x%y))"
   ]
  },
  {
   "cell_type": "markdown",
   "metadata": {},
   "source": [
    "___\n",
    "\n",
    "## Running in a single Process"
   ]
  },
  {
   "cell_type": "code",
   "execution_count": 10,
   "metadata": {},
   "outputs": [
    {
     "name": "stdout",
     "output_type": "stream",
     "text": [
      "\n",
      "Sleeping 1 second..\n",
      "Sum of 10 and 5 = 15\n",
      "\n",
      "Sleeping 2 seconds..\n",
      "Difference of 10 and 5 = 5\n",
      "\n",
      "Sleeping 3 seconds..\n",
      "Multiplication of 10 and 5 = 50\n",
      "\n",
      "Sleeping 4 seconds..\n",
      "Division of 10 and 5 = 0\n",
      "\n",
      "Sleeping 5 seconds..\n",
      "Biggest of 10 and 5 = 10\n",
      "\n",
      "Sleeping 6 seconds..\n",
      "Smallest of 10 and 5 = 5\n",
      "\n",
      "Sleeping 7 seconds..\n",
      "Sum of Squares of 10 and 5 = 125\n",
      "\n",
      "Sleeping 8 seconds..\n",
      "Modulus of 10 and 5 = 0\n",
      "\n",
      "Total time taken = 36.03 seconds\n"
     ]
    }
   ],
   "source": [
    "# Starting Time\n",
    "start = time.perf_counter()\n",
    "\n",
    "#Inputs\n",
    "x = 10\n",
    "y = 5\n",
    "\n",
    "#Calling Addition Function\n",
    "addition(x,y)\n",
    "\n",
    "#Calling Subtraction Function\n",
    "subtraction(x,y)\n",
    "\n",
    "#Calling Multiplication Function\n",
    "multiplication(x,y)\n",
    "\n",
    "#Calling Division Function\n",
    "division(x,y)\n",
    "\n",
    "#Calling Biggest Function\n",
    "biggest(x,y)\n",
    "\n",
    "#Calling Smallest Function\n",
    "smallest(x,y)\n",
    "\n",
    "#Calling sumOfSquares Function\n",
    "sumOfSquares(x,y)\n",
    "\n",
    "#Calling Modulus Function\n",
    "modulus(x,y)\n",
    "\n",
    "# Ending Time\n",
    "finish = time.perf_counter()\n",
    "\n",
    "print(f'\\nTotal time taken = {round(finish-start, 2)} seconds')"
   ]
  },
  {
   "cell_type": "markdown",
   "metadata": {},
   "source": [
    "___"
   ]
  },
  {
   "cell_type": "markdown",
   "metadata": {},
   "source": [
    "## Multiprocessing"
   ]
  },
  {
   "cell_type": "markdown",
   "metadata": {},
   "source": [
    "### 1) Creating separate Processes Manually"
   ]
  },
  {
   "cell_type": "code",
   "execution_count": 11,
   "metadata": {},
   "outputs": [
    {
     "name": "stdout",
     "output_type": "stream",
     "text": [
      "\n",
      "Sleeping 1 second..\n",
      "\n",
      "Sleeping 2 seconds..\n",
      "\n",
      "Sleeping 3 seconds..\n",
      "\n",
      "Sleeping 4 seconds..\n",
      "\n",
      "Sleeping 5 seconds..\n",
      "\n",
      "Sleeping 6 seconds..\n",
      "\n",
      "Sleeping 7 seconds..\n",
      "\n",
      "Sleeping 8 seconds..\n",
      "Sum of 10 and 5 = 15\n",
      "Difference of 10 and 5 = 5\n",
      "Multiplication of 10 and 5 = 50\n",
      "Division of 10 and 5 = 0\n",
      "Biggest of 10 and 5 = 10\n",
      "Smallest of 10 and 5 = 5\n",
      "Sum of Squares of 10 and 5 = 125\n",
      "Modulus of 10 and 5 = 0\n",
      "\n",
      "Total time taken = 8.04 seconds\n"
     ]
    }
   ],
   "source": [
    "import multiprocessing\n",
    "\n",
    "# Starting Time\n",
    "start = time.perf_counter()\n",
    "\n",
    "#Inputs\n",
    "x = 10\n",
    "y = 5\n",
    "\n",
    "#Creating multiple processes for each methods\n",
    "p1 = multiprocessing.Process(target=addition, args=[x,y])\n",
    "p2 = multiprocessing.Process(target=subtraction, args=[x,y])\n",
    "p3 = multiprocessing.Process(target=multiplication, args=[x,y])\n",
    "p4 = multiprocessing.Process(target=division, args=[x,y])\n",
    "p5 = multiprocessing.Process(target=biggest, args=[x,y])\n",
    "p6 = multiprocessing.Process(target=smallest, args=[x,y])\n",
    "p7 = multiprocessing.Process(target=sumOfSquares, args=[x,y])\n",
    "p8 = multiprocessing.Process(target=modulus, args=[x,y])\n",
    "\n",
    "processes = [p1, p2, p3, p4, p5, p6, p7, p8]\n",
    "\n",
    "# Starting all the processes\n",
    "for process in processes:\n",
    "    process.start()\n",
    "\n",
    "\n",
    "#Waiting for all processes to continue before executing Finish counter\n",
    "for process in processes:\n",
    "    process.join()\n",
    "\n",
    "\n",
    "# Ending Time\n",
    "finish = time.perf_counter()\n",
    "\n",
    "print(f'\\nTotal time taken = {round(finish-start, 2)} seconds')"
   ]
  },
  {
   "cell_type": "markdown",
   "metadata": {},
   "source": [
    "### 2)Using Futures"
   ]
  },
  {
   "cell_type": "code",
   "execution_count": 12,
   "metadata": {},
   "outputs": [
    {
     "name": "stdout",
     "output_type": "stream",
     "text": [
      "\n",
      "Sleeping 1 second..\n",
      "Sleeping 2 seconds..\n",
      "Sleeping 5 seconds..\n",
      "Sleeping 3 seconds..\n",
      "Sleeping 4 seconds..\n",
      "\n",
      "\n",
      "Sleeping 6 seconds..\n",
      "\n",
      "\n",
      "Sleeping 7 seconds..\n",
      "\n",
      "\n",
      "Sleeping 8 seconds..\n",
      "\n",
      "Sum of 10 and 5 = 15\n",
      "Difference of 10 and 5 = 5\n",
      "Multiplication of 10 and 5 = 50\n",
      "Division of 10 and 5 = 0\n",
      "Biggest of 10 and 5 = 10\n",
      "Smallest of 10 and 5 = 5\n",
      "Sum of Squares of 10 and 5 = 125\n",
      "Modulus of 10 and 5 = 0\n",
      "\n",
      "Total time taken = 8.09 seconds\n"
     ]
    }
   ],
   "source": [
    "import concurrent.futures\n",
    "\n",
    "# Starting Time\n",
    "start = time.perf_counter()\n",
    "\n",
    "#Inputs\n",
    "x = 10\n",
    "y = 5\n",
    "\n",
    "# Creating Future Process Pool Executor\n",
    "with concurrent.futures.ProcessPoolExecutor() as executor:\n",
    "    f1 = executor.submit(addition, x, y)\n",
    "    f2 = executor.submit(subtraction, x, y)\n",
    "    f3 = executor.submit(multiplication, x, y)\n",
    "    f4 = executor.submit(division, x, y)\n",
    "    f5 = executor.submit(biggest, x, y)\n",
    "    f6 = executor.submit(smallest, x, y)\n",
    "    f7 = executor.submit(sumOfSquares, x, y)\n",
    "    f8 = executor.submit(modulus, x, y)\n",
    "\n",
    "\n",
    "# Ending Time\n",
    "finish = time.perf_counter()\n",
    "\n",
    "print(f'\\nTotal time taken = {round(finish-start, 2)} seconds')"
   ]
  },
  {
   "cell_type": "markdown",
   "metadata": {},
   "source": [
    "___"
   ]
  },
  {
   "cell_type": "markdown",
   "metadata": {},
   "source": [
    "## Multithreading"
   ]
  },
  {
   "cell_type": "markdown",
   "metadata": {},
   "source": [
    "### 1) Creating separate Threads Manually"
   ]
  },
  {
   "cell_type": "code",
   "execution_count": 13,
   "metadata": {},
   "outputs": [
    {
     "name": "stdout",
     "output_type": "stream",
     "text": [
      "\n",
      "Sleeping 1 second..\n",
      "\n",
      "Sleeping 2 seconds..\n",
      "\n",
      "Sleeping 3 seconds..\n",
      "Sleeping 4 seconds..\n",
      "\n",
      "\n",
      "Sleeping 5 seconds..\n",
      "\n",
      "Sleeping 6 seconds..\n",
      "\n",
      "Sleeping 7 seconds..\n",
      "\n",
      "Sleeping 8 seconds..\n",
      "Sum of 10 and 5 = 15\n",
      "Difference of 10 and 5 = 5\n",
      "Multiplication of 10 and 5 = 50\n",
      "Division of 10 and 5 = 0\n",
      "Biggest of 10 and 5 = 10\n",
      "Smallest of 10 and 5 = 5\n",
      "Sum of Squares of 10 and 5 = 125\n",
      "Modulus of 10 and 5 = 0\n",
      "\n",
      "Total time taken = 8.01 seconds\n"
     ]
    }
   ],
   "source": [
    "import threading\n",
    "\n",
    "# Starting Time\n",
    "start = time.perf_counter()\n",
    "\n",
    "#Inputs\n",
    "x = 10\n",
    "y = 5\n",
    "\n",
    "#Creating multiple threads for each methods\n",
    "t1 = threading.Thread(target=addition, args=[x,y])\n",
    "t2 = threading.Thread(target=subtraction, args=[x,y])\n",
    "t3 = threading.Thread(target=multiplication, args=[x,y])\n",
    "t4 = threading.Thread(target=division, args=[x,y])\n",
    "t5 = threading.Thread(target=biggest, args=[x,y])\n",
    "t6 = threading.Thread(target=smallest, args=[x,y])\n",
    "t7 = threading.Thread(target=sumOfSquares, args=[x,y])\n",
    "t8 = threading.Thread(target=modulus, args=[x,y])\n",
    "\n",
    "threads = [t1, t2, t3, t4, t5, t6, t7, t8]\n",
    "\n",
    "# Starting all the threads\n",
    "for thread in threads:\n",
    "    thread.start()\n",
    "\n",
    "\n",
    "#Waiting for all threads to continue before executing Finish counter\n",
    "for process in threads:\n",
    "    thread.join()\n",
    "\n",
    "\n",
    "# Ending Time\n",
    "finish = time.perf_counter()\n",
    "\n",
    "print(f'\\nTotal time taken = {round(finish-start, 2)} seconds')"
   ]
  },
  {
   "cell_type": "markdown",
   "metadata": {},
   "source": [
    "### 2)Using Futures"
   ]
  },
  {
   "cell_type": "code",
   "execution_count": 14,
   "metadata": {},
   "outputs": [
    {
     "name": "stdout",
     "output_type": "stream",
     "text": [
      "\n",
      "Sleeping 1 second..\n",
      "\n",
      "Sleeping 2 seconds..\n",
      "\n",
      "Sleeping 3 seconds..\n",
      "\n",
      "Sleeping 4 seconds..\n",
      "Sleeping 5 seconds..\n",
      "\n",
      "\n",
      "Sleeping 6 seconds..\n",
      "\n",
      "Sleeping 7 seconds..\n",
      "Sleeping 8 seconds..\n",
      "\n",
      "Sum of 10 and 5 = 15\n",
      "Difference of 10 and 5 = 5\n",
      "Multiplication of 10 and 5 = 50\n",
      "Division of 10 and 5 = 0\n",
      "Biggest of 10 and 5 = 10\n",
      "Smallest of 10 and 5 = 5\n",
      "Sum of Squares of 10 and 5 = 125\n",
      "Modulus of 10 and 5 = 0\n",
      "\n",
      "Total time taken = 8.02 seconds\n"
     ]
    }
   ],
   "source": [
    "import concurrent.futures\n",
    "\n",
    "# Starting Time\n",
    "start = time.perf_counter()\n",
    "\n",
    "#Inputs\n",
    "x = 10\n",
    "y = 5\n",
    "\n",
    "# Creating Future Thread Pool Executor\n",
    "with concurrent.futures.ThreadPoolExecutor() as executor:\n",
    "    f1 = executor.submit(addition, x, y)\n",
    "    f2 = executor.submit(subtraction, x, y)\n",
    "    f3 = executor.submit(multiplication, x, y)\n",
    "    f4 = executor.submit(division, x, y)\n",
    "    f5 = executor.submit(biggest, x, y)\n",
    "    f6 = executor.submit(smallest, x, y)\n",
    "    f7 = executor.submit(sumOfSquares, x, y)\n",
    "    f8 = executor.submit(modulus, x, y)\n",
    "\n",
    "\n",
    "# Ending Time\n",
    "finish = time.perf_counter()\n",
    "\n",
    "print(f'\\nTotal time taken = {round(finish-start, 2)} seconds')"
   ]
  },
  {
   "cell_type": "markdown",
   "metadata": {},
   "source": [
    "___"
   ]
  },
  {
   "cell_type": "code",
   "execution_count": null,
   "metadata": {},
   "outputs": [],
   "source": []
  }
 ],
 "metadata": {
  "kernelspec": {
   "display_name": "Python 3",
   "language": "python",
   "name": "python3"
  },
  "language_info": {
   "codemirror_mode": {
    "name": "ipython",
    "version": 3
   },
   "file_extension": ".py",
   "mimetype": "text/x-python",
   "name": "python",
   "nbconvert_exporter": "python",
   "pygments_lexer": "ipython3",
   "version": "3.7.6"
  }
 },
 "nbformat": 4,
 "nbformat_minor": 2
}
