{
 "cells": [
  {
   "cell_type": "markdown",
   "metadata": {},
   "source": [
    "### Import"
   ]
  },
  {
   "cell_type": "code",
   "execution_count": 1,
   "metadata": {},
   "outputs": [],
   "source": [
    "from rethinkdb import RethinkDB"
   ]
  },
  {
   "cell_type": "markdown",
   "metadata": {},
   "source": [
    "### Connecting to RethinkDB"
   ]
  },
  {
   "cell_type": "code",
   "execution_count": 2,
   "metadata": {},
   "outputs": [
    {
     "name": "stdout",
     "output_type": "stream",
     "text": [
      "Rethink DB connected successfully\n"
     ]
    }
   ],
   "source": [
    "r = RethinkDB()\n",
    "try:\n",
    "    conn = r.connect(host='192.168.2.16', port='28015', db='MetaData')\n",
    "    print(\"Rethink DB connected successfully\")\n",
    "except Exception as e:\n",
    "    print(\"Rethink DB connection failed\")"
   ]
  },
  {
   "cell_type": "markdown",
   "metadata": {},
   "source": [
    "### Reading JSON from RethinkDB Table"
   ]
  },
  {
   "cell_type": "code",
   "execution_count": 3,
   "metadata": {},
   "outputs": [],
   "source": [
    "rethinkJson = r.table('SparkJson').get('DATALOAD#del_rel_map#varun.ck@aline-consulting.com')['payload'].run(conn)"
   ]
  },
  {
   "cell_type": "markdown",
   "metadata": {},
   "source": [
    "### Type of JSON"
   ]
  },
  {
   "cell_type": "code",
   "execution_count": 4,
   "metadata": {},
   "outputs": [
    {
     "name": "stdout",
     "output_type": "stream",
     "text": [
      "<class 'dict'>\n"
     ]
    }
   ],
   "source": [
    "print(type(rethinkJson))"
   ]
  },
  {
   "cell_type": "markdown",
   "metadata": {},
   "source": [
    "### JSON"
   ]
  },
  {
   "cell_type": "code",
   "execution_count": 5,
   "metadata": {},
   "outputs": [
    {
     "name": "stdout",
     "output_type": "stream",
     "text": [
      "{'autoCreateFlag': False, 'connectiontype': 'HDFS', 'delimiter': '\\t', 'details': {'host': '192.168.2.21', 'path': '/VARUN_FILES_TEST/TARGET/delete_relationship.tab', 'port': '9000'}, 'errorDataType': 'standard', 'filename': 'delete_relationship.tab', 'header': True, 'importFrom': '1', 'keyspace': 'PUBLIC', 'mapObject': {'backups': 1, 'columnCreated': False, 'columns': ['Opportunity_Id', 'Sales_Item_Id'], 'connectionTypeDetail': 'HDFS', 'dataTransformations': [], 'defaultIdAsPrimary': False, 'delimiterRadio': 'tab', 'delimiterType': 'delimiter', 'extras': {'captureUploadData': False, 'defaultIdAsPrimary': False, 'deltaLoadCheck': False, 'displayName': 'del_rel', 'logErrorRecords': False, 'tableType': 'master', 'tableUsedFor': ''}, 'groupName': 'varun_test', 'headerData': True, 'importFrom': '1', 'incomingTableData': [{'Opportunity_Id': '20000378', 'Sales_Item_Id': '83241'}, {'Opportunity_Id': '20000378', 'Sales_Item_Id': '469759A'}, {'Opportunity_Id': '20000378', 'Sales_Item_Id': '472508A'}, {'Opportunity_Id': '20000378', 'Sales_Item_Id': '473084A'}, {'Opportunity_Id': '20000378', 'Sales_Item_Id': '473085A'}, {'Opportunity_Id': '20000378', 'Sales_Item_Id': '474061A'}, {'Opportunity_Id': '20000378', 'Sales_Item_Id': 'CS7216852'}, {'Opportunity_Id': '20000378', 'Sales_Item_Id': 'CS7221625'}], 'mappingProfile': False, 'mappingname': 'del_rel_map', 'pageNumber': 4, 'quoting': True, 'saveMode': 'UPSERT', 'status': 'completed', 'tableColumns': [], 'tableData': [{'allowNull': True, 'columnLength': 128, 'columnName': 'opportunity_id', 'columnUpdateType': None, 'compositePrimaryKey': True, 'dataType': 'varchar', 'desc': None, 'displayName': 'opportunity_id', 'fk_column': None, 'fk_table': None, 'incomingColumnName': 'Opportunity_Id', 'incomingColumnPosition': 0, 'incomingFile': '/VARUN_FILES_TEST/TARGET/delete_relationship.tab', 'isDefault': False, 'primaryKey': False, 'tgtColumnLength': 128, 'tgtColumnName': 'opportunity_id', 'tgtDataType': 'varchar', 'tgtTableName': 'del_rel', 'validationRules': False, 'validations': {'allowNull': True}}, {'allowNull': True, 'columnLength': 128, 'columnName': 'sales_item_id', 'columnUpdateType': None, 'compositePrimaryKey': True, 'dataType': 'varchar', 'desc': None, 'displayName': 'sales_item_id', 'fk_column': None, 'fk_table': None, 'incomingColumnName': 'Sales_Item_Id', 'incomingColumnPosition': 1, 'incomingFile': '/VARUN_FILES_TEST/TARGET/delete_relationship.tab', 'isDefault': False, 'primaryKey': False, 'tgtColumnLength': 128, 'tgtColumnName': 'sales_item_id', 'tgtDataType': 'varchar', 'tgtTableName': 'del_rel', 'validationRules': False, 'validations': {'allowNull': True}}], 'tableName': 'del_rel', 'tableSelection': 'auto', 'targetColumnValidations': {}}, 'mappingProfile': False, 'profileData': [], 'referentialFlag': False, 'saveMode': 'UPSERT', 'serviceName': 'del_rel', 'serviceType': 'Incoming Data Hub', 'sheetName': '', 'tablename': 'del_rel', 'targetColumnValidations': {}}\n"
     ]
    }
   ],
   "source": [
    "print(rethinkJson)"
   ]
  },
  {
   "cell_type": "markdown",
   "metadata": {},
   "source": [
    "### Parsing Rethink JSON"
   ]
  },
  {
   "cell_type": "code",
   "execution_count": 6,
   "metadata": {},
   "outputs": [],
   "source": [
    "filename = rethinkJson['filename']\n",
    "filetype = filename.split('.')[1]\n",
    "delimiter = rethinkJson['delimiter']\n",
    "tableName = rethinkJson['tablename']\n",
    "referentialFlag = rethinkJson['referentialFlag']\n",
    "autoCreateFlag = rethinkJson['autoCreateFlag']\n",
    "headertType = rethinkJson['header']\n",
    "importFrom = rethinkJson['importFrom']\n",
    "saveMode = rethinkJson['saveMode']\n",
    "#mapObj = rethinkJson['mapObject']\n",
    "hdfs_host = rethinkJson['details']['host']\n",
    "hdfs_port = rethinkJson['details']['port']\n",
    "profileDataJson = rethinkJson['profileData']"
   ]
  },
  {
   "cell_type": "markdown",
   "metadata": {},
   "source": [
    "### Printing Each Element"
   ]
  },
  {
   "cell_type": "code",
   "execution_count": 7,
   "metadata": {},
   "outputs": [
    {
     "name": "stdout",
     "output_type": "stream",
     "text": [
      "Filename: delete_relationship.tab\n",
      "Filetype: tab\n",
      "Delimiter: \t\n",
      "TableName: del_rel\n",
      "ReferentialFlag: False\n",
      "AutoCreateFlag: False\n",
      "HeadertType: True\n",
      "importFrom: 1\n",
      "saveMode: UPSERT\n",
      "HDFS HOST: 192.168.2.21\n",
      "HDFS PORT: 9000\n",
      "Type of HDFS port: <class 'str'>\n",
      "profileDataJson: []\n",
      "Type of profileDataJson: <class 'list'>\n"
     ]
    }
   ],
   "source": [
    "print(\"Filename: {}\".format(filename))\n",
    "print(\"Filetype: {}\".format(filetype))\n",
    "print(\"Delimiter: {}\".format(delimiter))\n",
    "print(\"TableName: {}\".format(tableName))\n",
    "print(\"ReferentialFlag: {}\".format(referentialFlag))\n",
    "print(\"AutoCreateFlag: {}\".format(autoCreateFlag))\n",
    "print(\"HeadertType: {}\".format(headertType))\n",
    "print(\"importFrom: {}\".format(importFrom))\n",
    "print(\"saveMode: {}\".format(saveMode))\n",
    "#print(\"mapObj: {}\".format(mapObj))\n",
    "#print(\"Type of mapObj \", type(mapObj))\n",
    "\n",
    "#print('mapObj keys: {}'.format(mapObj.keys()))\n",
    "#print('columnCreated' in mapObj.keys())\n",
    "#print('advanceQuery' in mapObj.keys())\n",
    "print(\"HDFS HOST: {}\".format(hdfs_host))\n",
    "print(\"HDFS PORT: {}\".format(hdfs_port))\n",
    "print(\"Type of HDFS port: {}\".format(type(hdfs_port)))\n",
    "\n",
    "print(\"profileDataJson: {}\".format(profileDataJson))\n",
    "print(\"Type of profileDataJson: {}\".format(type(profileDataJson)))"
   ]
  },
  {
   "cell_type": "markdown",
   "metadata": {},
   "source": [
    "### Closing Rethink Connection"
   ]
  },
  {
   "cell_type": "code",
   "execution_count": 9,
   "metadata": {},
   "outputs": [],
   "source": [
    "conn.close()"
   ]
  }
 ],
 "metadata": {
  "kernelspec": {
   "display_name": "Python 3",
   "language": "python",
   "name": "python3"
  },
  "language_info": {
   "codemirror_mode": {
    "name": "ipython",
    "version": 3
   },
   "file_extension": ".py",
   "mimetype": "text/x-python",
   "name": "python",
   "nbconvert_exporter": "python",
   "pygments_lexer": "ipython3",
   "version": "3.7.4"
  }
 },
 "nbformat": 4,
 "nbformat_minor": 2
}
