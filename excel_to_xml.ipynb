{
 "cells": [
  {
   "cell_type": "markdown",
   "metadata": {},
   "source": [
    "### Importing Pandas"
   ]
  },
  {
   "cell_type": "code",
   "execution_count": 1,
   "metadata": {},
   "outputs": [],
   "source": [
    "import pandas as pd"
   ]
  },
  {
   "cell_type": "markdown",
   "metadata": {},
   "source": [
    "**Reading excel file as a dataframe**"
   ]
  },
  {
   "cell_type": "code",
   "execution_count": 3,
   "metadata": {},
   "outputs": [],
   "source": [
    "df = pd.read_excel('Resources/sample_employee.xlsx')"
   ]
  },
  {
   "cell_type": "code",
   "execution_count": 4,
   "metadata": {
    "scrolled": true
   },
   "outputs": [
    {
     "data": {
      "text/html": [
       "<div>\n",
       "<style scoped>\n",
       "    .dataframe tbody tr th:only-of-type {\n",
       "        vertical-align: middle;\n",
       "    }\n",
       "\n",
       "    .dataframe tbody tr th {\n",
       "        vertical-align: top;\n",
       "    }\n",
       "\n",
       "    .dataframe thead th {\n",
       "        text-align: right;\n",
       "    }\n",
       "</style>\n",
       "<table border=\"1\" class=\"dataframe\">\n",
       "  <thead>\n",
       "    <tr style=\"text-align: right;\">\n",
       "      <th></th>\n",
       "      <th>ID</th>\n",
       "      <th>NAME</th>\n",
       "      <th>AGE</th>\n",
       "      <th>ADDRESS</th>\n",
       "      <th>SALARY</th>\n",
       "    </tr>\n",
       "  </thead>\n",
       "  <tbody>\n",
       "    <tr>\n",
       "      <td>0</td>\n",
       "      <td>1</td>\n",
       "      <td>Ramesh</td>\n",
       "      <td>32</td>\n",
       "      <td>Ahmedabad</td>\n",
       "      <td>2000</td>\n",
       "    </tr>\n",
       "    <tr>\n",
       "      <td>1</td>\n",
       "      <td>2</td>\n",
       "      <td>Khilan</td>\n",
       "      <td>25</td>\n",
       "      <td>Delhi</td>\n",
       "      <td>1500</td>\n",
       "    </tr>\n",
       "    <tr>\n",
       "      <td>2</td>\n",
       "      <td>3</td>\n",
       "      <td>Kaushik</td>\n",
       "      <td>23</td>\n",
       "      <td>Kota</td>\n",
       "      <td>2000</td>\n",
       "    </tr>\n",
       "    <tr>\n",
       "      <td>3</td>\n",
       "      <td>4</td>\n",
       "      <td>Chaitali</td>\n",
       "      <td>25</td>\n",
       "      <td>Mumbai</td>\n",
       "      <td>6500</td>\n",
       "    </tr>\n",
       "    <tr>\n",
       "      <td>4</td>\n",
       "      <td>5</td>\n",
       "      <td>Hardik</td>\n",
       "      <td>27</td>\n",
       "      <td>Bhopal</td>\n",
       "      <td>8500</td>\n",
       "    </tr>\n",
       "    <tr>\n",
       "      <td>5</td>\n",
       "      <td>6</td>\n",
       "      <td>Komal</td>\n",
       "      <td>22</td>\n",
       "      <td>MP</td>\n",
       "      <td>4500</td>\n",
       "    </tr>\n",
       "    <tr>\n",
       "      <td>6</td>\n",
       "      <td>7</td>\n",
       "      <td>Muffy</td>\n",
       "      <td>24</td>\n",
       "      <td>Indore</td>\n",
       "      <td>10000</td>\n",
       "    </tr>\n",
       "  </tbody>\n",
       "</table>\n",
       "</div>"
      ],
      "text/plain": [
       "   ID      NAME  AGE    ADDRESS  SALARY\n",
       "0   1    Ramesh   32  Ahmedabad    2000\n",
       "1   2    Khilan   25      Delhi    1500\n",
       "2   3   Kaushik   23       Kota    2000\n",
       "3   4  Chaitali   25     Mumbai    6500\n",
       "4   5    Hardik   27     Bhopal    8500\n",
       "5   6     Komal   22         MP    4500\n",
       "6   7     Muffy   24     Indore   10000"
      ]
     },
     "execution_count": 4,
     "metadata": {},
     "output_type": "execute_result"
    }
   ],
   "source": [
    "df"
   ]
  },
  {
   "cell_type": "markdown",
   "metadata": {},
   "source": [
    "**Extracting each row from dataframe and printing in xml format**"
   ]
  },
  {
   "cell_type": "code",
   "execution_count": 5,
   "metadata": {
    "scrolled": true
   },
   "outputs": [
    {
     "name": "stdout",
     "output_type": "stream",
     "text": [
      "<row>\n",
      "  <column name=\"ID\">1</field>\n",
      "  <column name=\"NAME\">Ramesh</field>\n",
      "  <column name=\"AGE\">32</field>\n",
      "  <column name=\"ADDRESS\">Ahmedabad</field>\n",
      "  <column name=\"SALARY\">2000</field>\n",
      "</row>\n",
      "<row>\n",
      "  <column name=\"ID\">2</field>\n",
      "  <column name=\"NAME\">Khilan</field>\n",
      "  <column name=\"AGE\">25</field>\n",
      "  <column name=\"ADDRESS\">Delhi</field>\n",
      "  <column name=\"SALARY\">1500</field>\n",
      "</row>\n",
      "<row>\n",
      "  <column name=\"ID\">3</field>\n",
      "  <column name=\"NAME\">Kaushik</field>\n",
      "  <column name=\"AGE\">23</field>\n",
      "  <column name=\"ADDRESS\">Kota</field>\n",
      "  <column name=\"SALARY\">2000</field>\n",
      "</row>\n",
      "<row>\n",
      "  <column name=\"ID\">4</field>\n",
      "  <column name=\"NAME\">Chaitali</field>\n",
      "  <column name=\"AGE\">25</field>\n",
      "  <column name=\"ADDRESS\">Mumbai</field>\n",
      "  <column name=\"SALARY\">6500</field>\n",
      "</row>\n",
      "<row>\n",
      "  <column name=\"ID\">5</field>\n",
      "  <column name=\"NAME\">Hardik</field>\n",
      "  <column name=\"AGE\">27</field>\n",
      "  <column name=\"ADDRESS\">Bhopal</field>\n",
      "  <column name=\"SALARY\">8500</field>\n",
      "</row>\n",
      "<row>\n",
      "  <column name=\"ID\">6</field>\n",
      "  <column name=\"NAME\">Komal</field>\n",
      "  <column name=\"AGE\">22</field>\n",
      "  <column name=\"ADDRESS\">MP</field>\n",
      "  <column name=\"SALARY\">4500</field>\n",
      "</row>\n",
      "<row>\n",
      "  <column name=\"ID\">7</field>\n",
      "  <column name=\"NAME\">Muffy</field>\n",
      "  <column name=\"AGE\">24</field>\n",
      "  <column name=\"ADDRESS\">Indore</field>\n",
      "  <column name=\"SALARY\">10000</field>\n",
      "</row>\n"
     ]
    }
   ],
   "source": [
    "def func(row):\n",
    "    xml = ['<row>']\n",
    "    for field in row.index:\n",
    "        xml.append('  <column name=\"{0}\">{1}</field>'.format(field, row[field]))\n",
    "    xml.append('</row>')\n",
    "    return '\\n'.join(xml)\n",
    "\n",
    "print('\\n'.join(df.apply(func, axis=1)))"
   ]
  },
  {
   "cell_type": "markdown",
   "metadata": {},
   "source": [
    "**Write to XML file**"
   ]
  },
  {
   "cell_type": "code",
   "execution_count": 7,
   "metadata": {},
   "outputs": [],
   "source": [
    "def func(row):\n",
    "    xml = ['<row>']\n",
    "    for field in row.index:\n",
    "        xml.append('  <column name=\"{0}\">{1}</field>'.format(field, row[field]))\n",
    "    xml.append('</row>')\n",
    "    return '\\n'.join(xml)\n",
    "\n",
    "with open('Resources/sample.xml','w') as f:\n",
    "    f.write('\\n'.join(df.apply(func, axis=1)))"
   ]
  }
 ],
 "metadata": {
  "kernelspec": {
   "display_name": "Python 3",
   "language": "python",
   "name": "python3"
  },
  "language_info": {
   "codemirror_mode": {
    "name": "ipython",
    "version": 3
   },
   "file_extension": ".py",
   "mimetype": "text/x-python",
   "name": "python",
   "nbconvert_exporter": "python",
   "pygments_lexer": "ipython3",
   "version": "3.7.4"
  }
 },
 "nbformat": 4,
 "nbformat_minor": 2
}
