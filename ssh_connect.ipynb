{
 "cells": [
  {
   "cell_type": "markdown",
   "metadata": {},
   "source": [
    "### Import paramiko model for ssh"
   ]
  },
  {
   "cell_type": "code",
   "execution_count": 1,
   "metadata": {},
   "outputs": [],
   "source": [
    "import paramiko"
   ]
  },
  {
   "cell_type": "markdown",
   "metadata": {},
   "source": [
    "### Host Server Credentials"
   ]
  },
  {
   "cell_type": "code",
   "execution_count": 2,
   "metadata": {},
   "outputs": [],
   "source": [
    "host = '192.168.2.16'\n",
    "username = 'root'\n",
    "port = 22\n",
    "password='Aline-12#'"
   ]
  },
  {
   "cell_type": "markdown",
   "metadata": {},
   "source": [
    "### Command to Execute in Server"
   ]
  },
  {
   "cell_type": "code",
   "execution_count": 3,
   "metadata": {},
   "outputs": [],
   "source": [
    "cmd_to_execute = 'ls -l /home/varun'"
   ]
  },
  {
   "cell_type": "markdown",
   "metadata": {},
   "source": [
    "### Create a client using Paramiko"
   ]
  },
  {
   "cell_type": "code",
   "execution_count": 4,
   "metadata": {},
   "outputs": [],
   "source": [
    "client = paramiko.SSHClient()\n",
    "#ssh.load_system_host_keys()\n",
    "client.set_missing_host_key_policy(paramiko.AutoAddPolicy())"
   ]
  },
  {
   "cell_type": "markdown",
   "metadata": {},
   "source": [
    "### Connect to client Server and execute the command"
   ]
  },
  {
   "cell_type": "code",
   "execution_count": 7,
   "metadata": {},
   "outputs": [
    {
     "name": "stdout",
     "output_type": "stream",
     "text": [
      "Connected Successfully\n",
      "Std-out\n",
      "total 104872\n",
      "drwxr-xr-x 2 root root      4096 Jan 14 18:38 customized_jar\n",
      "drwxr-xr-x 2 root root      4096 Jan 17 13:11 DUMMY_DATA\n",
      "drwxr-xr-x 2 root root      4096 Nov  6 16:23 Excel_Jars\n",
      "drwxr-xr-x 2 root root      4096 Jan 17 13:11 Files\n",
      "drwxr-xr-x 7 root root      4096 Nov  4 15:19 HDFS_files\n",
      "drwxr-xr-x 3 root root      4096 Oct 23 17:18 ignite\n",
      "-rw-r--r-- 1 root root      3129 Nov 13 18:57 ignite-config_13_CDC.xml\n",
      "-rw-r--r-- 1 root root      3129 Nov 13 18:57 ignite-config_17_CDC.xml\n",
      "-rw-r--r-- 1 root root      3128 Dec  6 14:10 ignite-config_21_CDC.xml\n",
      "drwxr-xr-x 2 root root      4096 Jan 14 18:39 IGNITE_JARS\n",
      "drwxr-xr-x 5 root root      4096 Dec 18 13:10 Intel_Files\n",
      "drwxr-xr-x 4 root root      4096 Dec 13 17:21 jars\n",
      "-rw-r--r-- 1 root root 107296484 Oct 23 16:42 jars.zip\n",
      "drwxr-xr-x 3 root root      4096 Jan 14 18:41 KAFKA\n",
      "drwxr-xr-x 2 root root      4096 Jan 14 18:37 KAFKA_JARS\n",
      "drwxr-xr-x 2 root root      4096 Jan 17 15:47 MY_FILES\n",
      "drwxr-xr-x 4 root root      4096 Sep  4 19:09 parquet_files\n",
      "drwxr-xr-x 2 root root      4096 Oct 10 17:09 python\n",
      "drwxr-xr-x 2 root root      4096 Nov 10 15:38 Sap_Hana_Jars\n",
      "drwxr-xr-x 2 root root      4096 Aug  1 16:58 sbt_spark_code\n",
      "drwxr-xr-x 2 root root      4096 Oct 23 17:18 spark-warehouse\n",
      "drwxr-xr-x 4 root root      4096 Nov 26 18:55 TEST\n",
      "drwxr-xr-x 2 root root      4096 Nov 26 18:52 TESTING\n",
      "Std-err\n"
     ]
    }
   ],
   "source": [
    "try:\n",
    "    client.connect(hostname=host, port=port, username=username, password=password, timeout=10)\n",
    "    print(\"Connected Successfully\")\n",
    "    ssh_stdin, ssh_stdout, ssh_stderr = client.exec_command(cmd_to_execute)\n",
    "    print(\"Std-out\")\n",
    "    for line in ssh_stdout:\n",
    "        print(line.strip('\\n'))\n",
    "    print(\"Std-err\")\n",
    "    for line in ssh_stderr:\n",
    "        print(line.strip('\\n'))\n",
    "\n",
    "except Exception as e:\n",
    "    print(\"Connection Failed\")\n",
    "    print(e)\n",
    "\n",
    "finally:\n",
    "    client.close()"
   ]
  }
 ],
 "metadata": {
  "kernelspec": {
   "display_name": "Python 3",
   "language": "python",
   "name": "python3"
  },
  "language_info": {
   "codemirror_mode": {
    "name": "ipython",
    "version": 3
   },
   "file_extension": ".py",
   "mimetype": "text/x-python",
   "name": "python",
   "nbconvert_exporter": "python",
   "pygments_lexer": "ipython3",
   "version": "3.7.4"
  }
 },
 "nbformat": 4,
 "nbformat_minor": 2
}
