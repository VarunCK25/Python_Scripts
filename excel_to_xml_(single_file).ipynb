{
 "cells": [
  {
   "cell_type": "code",
   "execution_count": 7,
   "metadata": {},
   "outputs": [],
   "source": [
    "import pandas as pd"
   ]
  },
  {
   "cell_type": "markdown",
   "metadata": {},
   "source": [
    "**Reading excel file as a dataframe**"
   ]
  },
  {
   "cell_type": "code",
   "execution_count": 8,
   "metadata": {},
   "outputs": [],
   "source": [
    "df = pd.read_excel('Resources/sample_employee.xlsx')"
   ]
  },
  {
   "cell_type": "code",
   "execution_count": 9,
   "metadata": {
    "scrolled": true
   },
   "outputs": [
    {
     "data": {
      "text/html": [
       "<div>\n",
       "<style scoped>\n",
       "    .dataframe tbody tr th:only-of-type {\n",
       "        vertical-align: middle;\n",
       "    }\n",
       "\n",
       "    .dataframe tbody tr th {\n",
       "        vertical-align: top;\n",
       "    }\n",
       "\n",
       "    .dataframe thead th {\n",
       "        text-align: right;\n",
       "    }\n",
       "</style>\n",
       "<table border=\"1\" class=\"dataframe\">\n",
       "  <thead>\n",
       "    <tr style=\"text-align: right;\">\n",
       "      <th></th>\n",
       "      <th>ID</th>\n",
       "      <th>NAME</th>\n",
       "      <th>AGE</th>\n",
       "      <th>ADDRESS</th>\n",
       "      <th>SALARY</th>\n",
       "    </tr>\n",
       "  </thead>\n",
       "  <tbody>\n",
       "    <tr>\n",
       "      <td>0</td>\n",
       "      <td>1</td>\n",
       "      <td>Ramesh</td>\n",
       "      <td>32</td>\n",
       "      <td>Ahmedabad</td>\n",
       "      <td>2000</td>\n",
       "    </tr>\n",
       "    <tr>\n",
       "      <td>1</td>\n",
       "      <td>2</td>\n",
       "      <td>Khilan</td>\n",
       "      <td>25</td>\n",
       "      <td>Delhi</td>\n",
       "      <td>1500</td>\n",
       "    </tr>\n",
       "    <tr>\n",
       "      <td>2</td>\n",
       "      <td>3</td>\n",
       "      <td>Kaushik</td>\n",
       "      <td>23</td>\n",
       "      <td>Kota</td>\n",
       "      <td>2000</td>\n",
       "    </tr>\n",
       "    <tr>\n",
       "      <td>3</td>\n",
       "      <td>4</td>\n",
       "      <td>Chaitali</td>\n",
       "      <td>25</td>\n",
       "      <td>Mumbai</td>\n",
       "      <td>6500</td>\n",
       "    </tr>\n",
       "    <tr>\n",
       "      <td>4</td>\n",
       "      <td>5</td>\n",
       "      <td>Hardik</td>\n",
       "      <td>27</td>\n",
       "      <td>Bhopal</td>\n",
       "      <td>8500</td>\n",
       "    </tr>\n",
       "    <tr>\n",
       "      <td>5</td>\n",
       "      <td>6</td>\n",
       "      <td>Komal</td>\n",
       "      <td>22</td>\n",
       "      <td>MP</td>\n",
       "      <td>4500</td>\n",
       "    </tr>\n",
       "    <tr>\n",
       "      <td>6</td>\n",
       "      <td>7</td>\n",
       "      <td>Muffy</td>\n",
       "      <td>24</td>\n",
       "      <td>Indore</td>\n",
       "      <td>10000</td>\n",
       "    </tr>\n",
       "  </tbody>\n",
       "</table>\n",
       "</div>"
      ],
      "text/plain": [
       "   ID      NAME  AGE    ADDRESS  SALARY\n",
       "0   1    Ramesh   32  Ahmedabad    2000\n",
       "1   2    Khilan   25      Delhi    1500\n",
       "2   3   Kaushik   23       Kota    2000\n",
       "3   4  Chaitali   25     Mumbai    6500\n",
       "4   5    Hardik   27     Bhopal    8500\n",
       "5   6     Komal   22         MP    4500\n",
       "6   7     Muffy   24     Indore   10000"
      ]
     },
     "execution_count": 9,
     "metadata": {},
     "output_type": "execute_result"
    }
   ],
   "source": [
    "df"
   ]
  },
  {
   "cell_type": "markdown",
   "metadata": {},
   "source": [
    "### To write file to xml format"
   ]
  },
  {
   "cell_type": "code",
   "execution_count": 10,
   "metadata": {},
   "outputs": [],
   "source": [
    "with open('Resources\\\\sample.xml','w') as f:\n",
    "    f.write('<file>\\n')"
   ]
  },
  {
   "cell_type": "markdown",
   "metadata": {},
   "source": [
    "**Extracting each row from dataframe and printing in xml format**"
   ]
  },
  {
   "cell_type": "code",
   "execution_count": 11,
   "metadata": {
    "scrolled": true
   },
   "outputs": [],
   "source": [
    "def func(row):\n",
    "    xml = ['    <row>']\n",
    "    for field in row.index:\n",
    "        xml.append('        <column name=\"{0}\">{1}</column>'.format(field, row[field]))\n",
    "    xml.append('    </row>')\n",
    "    return '\\n'.join(xml)"
   ]
  },
  {
   "cell_type": "markdown",
   "metadata": {},
   "source": [
    "**Write to a xml file**"
   ]
  },
  {
   "cell_type": "code",
   "execution_count": 12,
   "metadata": {},
   "outputs": [
    {
     "name": "stdout",
     "output_type": "stream",
     "text": [
      "    <row>\n",
      "        <column name=\"ID\">1</column>\n",
      "        <column name=\"NAME\">Ramesh</column>\n",
      "        <column name=\"AGE\">32</column>\n",
      "        <column name=\"ADDRESS\">Ahmedabad</column>\n",
      "        <column name=\"SALARY\">2000</column>\n",
      "    </row>\n",
      "    <row>\n",
      "        <column name=\"ID\">2</column>\n",
      "        <column name=\"NAME\">Khilan</column>\n",
      "        <column name=\"AGE\">25</column>\n",
      "        <column name=\"ADDRESS\">Delhi</column>\n",
      "        <column name=\"SALARY\">1500</column>\n",
      "    </row>\n",
      "    <row>\n",
      "        <column name=\"ID\">3</column>\n",
      "        <column name=\"NAME\">Kaushik</column>\n",
      "        <column name=\"AGE\">23</column>\n",
      "        <column name=\"ADDRESS\">Kota</column>\n",
      "        <column name=\"SALARY\">2000</column>\n",
      "    </row>\n",
      "    <row>\n",
      "        <column name=\"ID\">4</column>\n",
      "        <column name=\"NAME\">Chaitali</column>\n",
      "        <column name=\"AGE\">25</column>\n",
      "        <column name=\"ADDRESS\">Mumbai</column>\n",
      "        <column name=\"SALARY\">6500</column>\n",
      "    </row>\n",
      "    <row>\n",
      "        <column name=\"ID\">5</column>\n",
      "        <column name=\"NAME\">Hardik</column>\n",
      "        <column name=\"AGE\">27</column>\n",
      "        <column name=\"ADDRESS\">Bhopal</column>\n",
      "        <column name=\"SALARY\">8500</column>\n",
      "    </row>\n",
      "    <row>\n",
      "        <column name=\"ID\">6</column>\n",
      "        <column name=\"NAME\">Komal</column>\n",
      "        <column name=\"AGE\">22</column>\n",
      "        <column name=\"ADDRESS\">MP</column>\n",
      "        <column name=\"SALARY\">4500</column>\n",
      "    </row>\n",
      "    <row>\n",
      "        <column name=\"ID\">7</column>\n",
      "        <column name=\"NAME\">Muffy</column>\n",
      "        <column name=\"AGE\">24</column>\n",
      "        <column name=\"ADDRESS\">Indore</column>\n",
      "        <column name=\"SALARY\">10000</column>\n",
      "    </row>\n"
     ]
    }
   ],
   "source": [
    "with open('Resources\\\\sample.xml','a') as f:\n",
    "    f.write('\\n'.join(df.apply(func, axis=1)))\n",
    "    \n",
    "print('\\n'.join(df.apply(func, axis=1)))\n",
    "\n",
    "with open('Resources\\\\sample.xml','a') as f:\n",
    "    f.write('\\n</file>')"
   ]
  }
 ],
 "metadata": {
  "kernelspec": {
   "display_name": "Python 3",
   "language": "python",
   "name": "python3"
  },
  "language_info": {
   "codemirror_mode": {
    "name": "ipython",
    "version": 3
   },
   "file_extension": ".py",
   "mimetype": "text/x-python",
   "name": "python",
   "nbconvert_exporter": "python",
   "pygments_lexer": "ipython3",
   "version": "3.7.4"
  }
 },
 "nbformat": 4,
 "nbformat_minor": 2
}
