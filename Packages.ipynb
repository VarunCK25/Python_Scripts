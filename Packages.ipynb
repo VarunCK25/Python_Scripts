{
 "cells": [
  {
   "cell_type": "code",
   "execution_count": 1,
   "metadata": {},
   "outputs": [
    {
     "name": "stdout",
     "output_type": "stream",
     "text": [
      "Collecting pyignite\n",
      "  Using cached https://files.pythonhosted.org/packages/de/80/e7df6f3366df8c582d309e6a623a4cd09f3a1bd9da0e3e3301faed0589ee/pyignite-0.3.4-py3-none-any.whl\n",
      "Collecting attrs==18.1.0 (from pyignite)\n",
      "  Using cached https://files.pythonhosted.org/packages/41/59/cedf87e91ed541be7957c501a92102f9cc6363c623a7666d69d51c78ac5b/attrs-18.1.0-py2.py3-none-any.whl\n",
      "Installing collected packages: attrs, pyignite\n",
      "  Found existing installation: attrs 19.2.0\n",
      "    Uninstalling attrs-19.2.0:\n",
      "      Successfully uninstalled attrs-19.2.0\n",
      "Successfully installed attrs-18.1.0 pyignite-0.3.4\n"
     ]
    }
   ],
   "source": [
    "!pip install pyignite"
   ]
  },
  {
   "cell_type": "code",
   "execution_count": 2,
   "metadata": {},
   "outputs": [
    {
     "name": "stdout",
     "output_type": "stream",
     "text": [
      "Collecting rethinkdb\n",
      "  Using cached https://files.pythonhosted.org/packages/d6/83/2d1932d0a61016c21466ec9cce97d1783fd20c7104dd2420a239bb13d41b/rethinkdb-2.4.4.post1-py2.py3-none-any.whl\n",
      "Requirement already satisfied: six in c:\\programdata\\anaconda3\\lib\\site-packages (from rethinkdb) (1.12.0)\n",
      "Installing collected packages: rethinkdb\n",
      "Successfully installed rethinkdb-2.4.4.post1\n"
     ]
    }
   ],
   "source": [
    "!pip install rethinkdb"
   ]
  },
  {
   "cell_type": "code",
   "execution_count": null,
   "metadata": {},
   "outputs": [],
   "source": []
  }
 ],
 "metadata": {
  "kernelspec": {
   "display_name": "Python 3",
   "language": "python",
   "name": "python3"
  },
  "language_info": {
   "codemirror_mode": {
    "name": "ipython",
    "version": 3
   },
   "file_extension": ".py",
   "mimetype": "text/x-python",
   "name": "python",
   "nbconvert_exporter": "python",
   "pygments_lexer": "ipython3",
   "version": "3.7.4"
  }
 },
 "nbformat": 4,
 "nbformat_minor": 2
}
